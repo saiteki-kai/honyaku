{
 "cells": [
  {
   "cell_type": "code",
   "execution_count": 4,
   "id": "049be5c6-a26b-440c-8b5e-46ac7d709952",
   "metadata": {},
   "outputs": [
    {
     "data": {
      "text/plain": [
       "True"
      ]
     },
     "execution_count": 4,
     "metadata": {},
     "output_type": "execute_result"
    }
   ],
   "source": [
    "import os\n",
    "\n",
    "from pathlib import Path\n",
    "\n",
    "from datasets import Dataset, DatasetDict\n",
    "from dotenv import load_dotenv\n",
    "\n",
    "\n",
    "load_dotenv()"
   ]
  },
  {
   "cell_type": "code",
   "execution_count": null,
   "id": "fde13435-fb49-42e7-bc11-9bc813d5dad4",
   "metadata": {},
   "outputs": [
    {
     "data": {
      "application/vnd.jupyter.widget-view+json": {
       "model_id": "c209e2e6ae524a8ba908858ccaf72abf",
       "version_major": 2,
       "version_minor": 0
      },
      "text/plain": [
       "Generating train split: 0 examples [00:00, ? examples/s]"
      ]
     },
     "metadata": {},
     "output_type": "display_data"
    },
    {
     "data": {
      "application/vnd.jupyter.widget-view+json": {
       "model_id": "67137e6dd7634ee8977142742284eee0",
       "version_major": 2,
       "version_minor": 0
      },
      "text/plain": [
       "Uploading the dataset shards:   0%|          | 0/1 [00:00<?, ?it/s]"
      ]
     },
     "metadata": {},
     "output_type": "display_data"
    },
    {
     "data": {
      "application/vnd.jupyter.widget-view+json": {
       "model_id": "e2261c4b7e8b4e00bc7b41e086c2e75f",
       "version_major": 2,
       "version_minor": 0
      },
      "text/plain": [
       "Creating parquet from Arrow format:   0%|          | 0/1 [00:00<?, ?ba/s]"
      ]
     },
     "metadata": {},
     "output_type": "display_data"
    },
    {
     "data": {
      "application/vnd.jupyter.widget-view+json": {
       "model_id": "cf7e3f81c5c241bd819853980b183cc8",
       "version_major": 2,
       "version_minor": 0
      },
      "text/plain": [
       "README.md:   0%|          | 0.00/3.38k [00:00<?, ?B/s]"
      ]
     },
     "metadata": {},
     "output_type": "display_data"
    }
   ],
   "source": [
    "translations_dir = Path(\"../outputs/BeaverTails-Evaluation-it/translations/\")\n",
    "# translations_dir = Path(\"../outputs/BeaverTails-it/translations/\")\n",
    "\n",
    "# dataset_name = \"saiteki-kai/BeaverTails-it\"\n",
    "dataset_name = \"saiteki-kai/BeaverTails-Evaluation-it\"\n",
    "\n",
    "models = [\n",
    "    \"haoranxu/X-ALMA-13B-Group2\",\n",
    "    \"Unbabel/TowerInstruct-Mistral-7B-v0.2\",\n",
    "    \"LLaMAX/LLaMAX3-8B-Alpaca\",\n",
    "    \"CohereForAI/aya-23-35B\",\n",
    "    \"facebook/nllb-200-3.3B\",\n",
    "    \"facebook/nllb-moe-54B\",\n",
    "]\n",
    "\n",
    "# splits = [\"330k_train\", \"330k_test\"]\n",
    "splits = [\"test\"]\n",
    "\n",
    "for model_name in models:\n",
    "    datasets = {}\n",
    "    for split in splits:  # replace(\"/\", \"__\")\n",
    "        # filepath = translations_dir / model_name.replace(\"/\", \"__\") / f\"{split}.parquet\"\n",
    "        filepath = translations_dir / model_name.split(\"/\")[-1] / split / f\"{split.split('_')[-1]}.parquet\"\n",
    "        dataset = Dataset.from_parquet(str(filepath))\n",
    "        datasets[split] = dataset\n",
    "\n",
    "    dataset_dict = DatasetDict(datasets)\n",
    "    dataset_dict.push_to_hub(\n",
    "        dataset_name,\n",
    "        config_name=model_name.replace(\"/\", \"__\"),\n",
    "        commit_message=\"Upload translations\",\n",
    "        token=os.environ.get(\"HF_TOKEN\"),\n",
    "    )"
   ]
  }
 ],
 "metadata": {
  "kernelspec": {
   "display_name": ".venv",
   "language": "python",
   "name": "python3"
  },
  "language_info": {
   "codemirror_mode": {
    "name": "ipython",
    "version": 3
   },
   "file_extension": ".py",
   "mimetype": "text/x-python",
   "name": "python",
   "nbconvert_exporter": "python",
   "pygments_lexer": "ipython3",
   "version": "3.12.7"
  }
 },
 "nbformat": 4,
 "nbformat_minor": 5
}
